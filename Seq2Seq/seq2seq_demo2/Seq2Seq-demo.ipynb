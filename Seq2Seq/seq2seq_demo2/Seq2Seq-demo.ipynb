{
 "cells": [
  {
   "cell_type": "markdown",
   "metadata": {},
   "source": [
    "# Keras Seq2Seq示例\n",
    "\n",
    "+ 任务很简单，将数字转为中文大写金额，例如 11288 -> 壹万壹仟零捌拾捌元整\n",
    "+ 我们将尝试利用seq2seq来解决这一问题，整个示例包括以下部分：\n",
    "    + 建立数据集\n",
    "    + 设计seq2seq模型\n",
    "    + 对比不同seq2seq模型"
   ]
  },
  {
   "cell_type": "markdown",
   "metadata": {},
   "source": [
    "## 建立数据集\n",
    "\n",
    "+ 找到一个将数字转中文的python代码 http://blog.csdn.net/zzcwing/article/details/8763212 我们利用这个来建立数据集\n",
    "+ 为了让事情变得简单一点，我们对数据集做一些约束：\n",
    "    + 数据集中的数字大小不超过 10w，也就是说范围在[0, 99999]\n",
    "    + 都是整数"
   ]
  },
  {
   "cell_type": "code",
   "execution_count": 1,
   "metadata": {},
   "outputs": [],
   "source": [
    "import tensorflow as tf\n",
    "import os\n",
    "os.environ[\"CUDA_VISIBLE_DEVICES\"] = \"2\"\n",
    "config = tf.ConfigProto()\n",
    "config.gpu_options.allow_growth = True\n",
    "#config.gpu_options.per_process_gpu_memory_fraction = 0.3\n",
    "#set_session(tf.Session(config=config))\n",
    "session = tf.Session(config=config)"
   ]
  },
  {
   "cell_type": "code",
   "execution_count": 60,
   "metadata": {},
   "outputs": [],
   "source": [
    "import random\n",
    "import numpy as np\n",
    "\n",
    "from keras import layers\n",
    "from keras.layers import Input, Embedding, Bidirectional, Dense, Concatenate, LSTM\n",
    "from keras.models import Model, load_model\n",
    "from keras import callbacks\n",
    "\n",
    "import matplotlib.pyplot as plt\n",
    "%matplotlib inline"
   ]
  },
  {
   "cell_type": "markdown",
   "metadata": {},
   "source": [
    "以下是数字转中文大写的代码，感谢作者"
   ]
  },
  {
   "cell_type": "code",
   "execution_count": 3,
   "metadata": {},
   "outputs": [],
   "source": [
    "# -*- coding: utf-8 -*-\n",
    "\"\"\"\n",
    "Created on Sat Apr 06 00:28:24 2013\n",
    "\n",
    "@author: zzcwing\n",
    "\"\"\"\n",
    "#算法说明：要求字符串输入，现将字符串差费为整数部分和小数部分生成list[整数部分,小数部分]\n",
    "#将整数部分拆分为：[亿，万，仟]三组字符串组成的List:['0000','0000','0000']（根据实际输入生成阶梯List）\n",
    "#例如：600190000010.70整数部分拆分为：['600','1900','0010']\n",
    "#然后对list中每个字符串分组进行大写化再合并\n",
    "#最后处理小数部分的大写化\n",
    "\n",
    "class cnumber:\n",
    "    cdict={}\n",
    "    gdict={}\n",
    "    xdict={}\n",
    "    def __init__(self):\n",
    "        self.cdict={1:u'',2:u'拾',3:u'佰',4:u'仟'}\n",
    "        self.xdict={1:u'元',2:u'万',3:u'亿',4:u'兆'} #数字标识符\n",
    "        self.gdict={0:u'零',1:u'壹',2:u'贰',3:u'叁',4:u'肆',5:u'伍',6:u'陆',7:u'柒',8:u'捌',9:u'玖'}       \n",
    "\n",
    "    def csplit(self,cdata): #拆分函数，将整数字符串拆分成[亿，万，仟]的list\n",
    "        g=len(cdata)%4\n",
    "        csdata=[]\n",
    "        lx=len(cdata)-1\n",
    "        if g>0:\n",
    "            csdata.append(cdata[0:g])\n",
    "        k=g\n",
    "        while k<=lx:\n",
    "            csdata.append(cdata[k:k+4])\n",
    "            k+=4\n",
    "        return csdata\n",
    "    \n",
    "    def cschange(self,cki): #对[亿，万，仟]的list中每个字符串分组进行大写化再合并\n",
    "        \n",
    "        lenki=len(cki)\n",
    "        i=0\n",
    "        lk=lenki\n",
    "        chk=u''\n",
    "        for i in range(lenki):\n",
    "            if int(cki[i])==0:\n",
    "                if i<lenki-1:\n",
    "                    if int(cki[i+1])!=0:\n",
    "                        chk=chk+self.gdict[int(cki[i])]                    \n",
    "            else:\n",
    "                chk=chk+self.gdict[int(cki[i])]+self.cdict[lk]\n",
    "            lk-=1\n",
    "        return chk\n",
    "        \n",
    "    def cwchange(self,data):\n",
    "        if not '.' in data:\n",
    "            data = data + '.00'\n",
    "        cdata=str(data).split('.')\n",
    "        \n",
    "        cki=cdata[0]\n",
    "        ckj=cdata[1]\n",
    "        i=0\n",
    "        chk=u''\n",
    "        cski=self.csplit(cki) #分解字符数组[亿，万，仟]三组List:['0000','0000','0000']\n",
    "        ikl=len(cski) #获取拆分后的List长度\n",
    "        #大写合并\n",
    "        for i in range(ikl):\n",
    "            if self.cschange(cski[i])=='': #有可能一个字符串全是0的情况\n",
    "                chk=chk+self.cschange(cski[i]) #此时不需要将数字标识符引入\n",
    "            else:\n",
    "                chk=chk+self.cschange(cski[i])+self.xdict[ikl-i] #合并：前字符串大写+当前字符串大写+标识符\n",
    "        #处理小数部分\n",
    "        lenkj=len(ckj)\n",
    "        if lenkj==1: #若小数只有1位\n",
    "            if int(ckj[0])==0: \n",
    "                chk=chk+u'整'\n",
    "            else:\n",
    "                chk=chk+self.gdict[int(ckj[0])]+u'角整'\n",
    "        else: #若小数有两位的四种情况\n",
    "            if int(ckj[0])==0 and int(ckj[1])!=0:\n",
    "                chk=chk+u'零'+self.gdict[int(ckj[1])]+u'分'\n",
    "            elif int(ckj[0])==0 and int(ckj[1])==0:\n",
    "                chk=chk+u'整'\n",
    "            elif int(ckj[0])!=0 and int(ckj[1])!=0:\n",
    "                chk=chk+self.gdict[int(ckj[0])]+u'角'+self.gdict[int(ckj[1])]+u'分'\n",
    "            else:\n",
    "                chk=chk+self.gdict[int(ckj[0])]+u'角整'\n",
    "        return chk"
   ]
  },
  {
   "cell_type": "markdown",
   "metadata": {},
   "source": [
    "生成数据，范围在[1, 99999]"
   ]
  },
  {
   "cell_type": "code",
   "execution_count": 4,
   "metadata": {},
   "outputs": [],
   "source": [
    "pt=cnumber()\n",
    "\n",
    "# 生成数据，并写入文件中\n",
    "num_range = range(1, 100000)\n",
    "data_path = 'dataset.txt'\n",
    "with open(data_path, 'w') as f:\n",
    "    for num in num_range:\n",
    "        num_str = str(num)\n",
    "        ch_num = pt.cwchange(num_str)\n",
    "        f.write(num_str + '\\t' + ch_num + '\\n')"
   ]
  },
  {
   "cell_type": "markdown",
   "metadata": {},
   "source": [
    "## 向量化数据"
   ]
  },
  {
   "cell_type": "code",
   "execution_count": 5,
   "metadata": {},
   "outputs": [
    {
     "name": "stdout",
     "output_type": "stream",
     "text": [
      "72608\t柒万贰仟陆佰零捌元整\n",
      "17338\t壹万柒仟叁佰叁拾捌元整\n",
      "99815\t玖万玖仟捌佰壹拾伍元整\n",
      "38187\t叁万捌仟壹佰捌拾柒元整\n",
      "79028\t柒万玖仟零贰拾捌元整\n",
      "95661\t玖万伍仟陆佰陆拾壹元整\n",
      "29591\t贰万玖仟伍佰玖拾壹元整\n",
      "11372\t壹万壹仟叁佰柒拾贰元整\n",
      "31327\t叁万壹仟叁佰贰拾柒元整\n",
      "84890\t捌万肆仟捌佰玖拾元整\n"
     ]
    }
   ],
   "source": [
    "num_samples = 50000\n",
    "\n",
    "data_path = 'dataset.txt'\n",
    "# 读入数据\n",
    "with open(data_path, 'r') as f:\n",
    "    lines = f.read().split('\\n')\n",
    "    \n",
    "# 打乱顺序\n",
    "random.shuffle(lines)\n",
    "# 显示部分数据\n",
    "for line in lines[:10]:\n",
    "    print(line)"
   ]
  },
  {
   "cell_type": "code",
   "execution_count": 6,
   "metadata": {},
   "outputs": [
    {
     "name": "stdout",
     "output_type": "stream",
     "text": [
      "Nunmber of samples: 50000\n",
      "Max sequence length of input: 5\n",
      "Max sequence length of outputs: 13\n"
     ]
    }
   ],
   "source": [
    "input_texts = [] #输入数据，也就是数字字符串\n",
    "target_texts = [] #目标数据，也就是中文大写字符串\n",
    "input_characters = set()\n",
    "target_characters = set()\n",
    "# 分割数据为 input_texts 和 target_texts\n",
    "# 且统计一些信息\n",
    "for line in lines[: min(num_samples, len(lines)-1)]:\n",
    "    try:\n",
    "        input_text, target_text = line.split('\\t')\n",
    "    except ValueError:\n",
    "        print('Error line:', line)\n",
    "        input_text = ''\n",
    "        target_text = ''\n",
    "        \n",
    "    # 计算 input_texts 中的 tokens数量\n",
    "    for char in input_text:\n",
    "        if char not in input_characters:\n",
    "            input_characters.add(char)\n",
    "            \n",
    "    # 计算 target_texts 中的 tokens数量\n",
    "    for char in target_text:\n",
    "        if char not in target_characters:\n",
    "            target_characters.add(char)\n",
    "        \n",
    "    # 用 '始'作为开始字符\n",
    "    # 用 '终'作为结束字符\n",
    "    target_text = '始' + target_text + '终'\n",
    "    \n",
    "    input_texts.append(input_text)\n",
    "    target_texts.append(target_text)\n",
    "    \n",
    "\n",
    "input_characters = sorted(list(input_characters))\n",
    "target_characters = sorted(list(target_characters))\n",
    "\n",
    "max_encoder_seq_length = max([ len(txt) for txt in input_texts])\n",
    "max_decoder_seq_length = max([ len(txt) for txt in target_texts])\n",
    "\n",
    "print('Nunmber of samples:', len(input_texts))\n",
    "print('Max sequence length of input:', max_encoder_seq_length)\n",
    "print('Max sequence length of outputs:', max_decoder_seq_length)"
   ]
  },
  {
   "cell_type": "code",
   "execution_count": 7,
   "metadata": {},
   "outputs": [],
   "source": [
    "# 建立字典，用于字符转数字\n",
    "\n",
    "# '[pad]'表示填充字符\n",
    "input_token_index = dict( [(char, i) for i, char in enumerate(['pad']+input_characters)])\n",
    "\n",
    "# '始'表示开始字符，'终'表示终止字符，'空'表示填充字符\n",
    "special_characters = ['空', '始', '终']\n",
    "target_token_index = dict([ (char,i ) for i, char in enumerate(special_characters + target_characters)])\n",
    "\n",
    "num_encoder_tokens = len(input_token_index)\n",
    "num_decoder_tokens = len(target_token_index)"
   ]
  },
  {
   "cell_type": "code",
   "execution_count": 8,
   "metadata": {},
   "outputs": [],
   "source": [
    "def characters2index(text, char_index):\n",
    "    # 将字符串向量化\n",
    "    return [char_index.get(char) for char in text]"
   ]
  },
  {
   "cell_type": "code",
   "execution_count": 9,
   "metadata": {},
   "outputs": [],
   "source": [
    "# 创建向量化的数据\n",
    "encoder_input_data = np.zeros((len(input_texts), max_encoder_seq_length), dtype=np.int32)\n",
    "decoder_input_data = np.zeros((len(target_texts), max_decoder_seq_length), dtype=np.int32)\n",
    "# decoder_target_data 需要 one-hot 编码\n",
    "decoder_target_data = np.zeros((len(target_texts), max_decoder_seq_length, num_decoder_tokens), dtype=np.float32)\n",
    "\n",
    "# 填充数据\n",
    "for i, (input_text, target_text) in enumerate(zip(input_texts, target_texts)):\n",
    "    input_indexs = characters2index(input_text, input_token_index)\n",
    "    encoder_input_data[i, :len(input_indexs)] = input_indexs\n",
    "    \n",
    "    target_indexs = characters2index(target_text, target_token_index)\n",
    "    decoder_input_data[i, :len(target_indexs)] = target_indexs\n",
    "    \n",
    "    # decoder_target_data 做one-hot编码，且偏移一位\n",
    "    for t, index in enumerate(decoder_input_data[i, 1:]):\n",
    "        decoder_target_data[i, t, index] = 1.0\n",
    "    decoder_target_data[i, -1, 0] = 1.0"
   ]
  },
  {
   "cell_type": "markdown",
   "metadata": {},
   "source": [
    "\n",
    "# 设计模型"
   ]
  },
  {
   "cell_type": "code",
   "execution_count": 10,
   "metadata": {},
   "outputs": [],
   "source": [
    "# 超参数\n",
    "encoder_embedding_dim = 10\n",
    "decoder_embedding_dim = 20\n",
    "latent_dim = 128\n",
    "\n",
    "batch_size = 64\n",
    "epochs = 20"
   ]
  },
  {
   "cell_type": "markdown",
   "metadata": {},
   "source": [
    "### 单向模型\n",
    "+ 编码器和解码器都是单向lstm\n",
    "    + 编码器：encoder_input -> encoder_embedding -> encoder_lstm -> ...\n",
    "    + 解码器：decoder_input -> decoder_embbeding -> decoder_lstm -> decoder_dense -> ..."
   ]
  },
  {
   "cell_type": "code",
   "execution_count": 11,
   "metadata": {},
   "outputs": [],
   "source": [
    "def build_basic_model():\n",
    "    rnn = layers.LSTM\n",
    "    # Encoder\n",
    "    encoder_inputs = Input(shape=(None,), name='encoder_inputs')\n",
    "    encoder_embedding = Embedding(num_encoder_tokens, encoder_embedding_dim, name='encoder_embedding')(encoder_inputs)\n",
    "    encoder_lstm = rnn(latent_dim, return_state=True, return_sequences=True, dropout=0.2, recurrent_dropout=0.5, name='encoder_lstm')\n",
    "    _, *encoder_states = encoder_lstm(encoder_embedding)\n",
    "    \n",
    "    # Decoder\n",
    "    decoder_inputs = Input(shape=(None,), name='decoder_inputs')\n",
    "    decoder_embedding = Embedding(num_decoder_tokens, decoder_embedding_dim, name='decoder_embedding')(decoder_inputs)\n",
    "    decoder_lstm = rnn(latent_dim, return_state=True, return_sequences=True, dropout=0.2, recurrent_dropout=0.5, name='decoder_lstm')\n",
    "    rnn_outputs, *decoder_states = decoder_lstm(decoder_embedding, initial_state=encoder_states)\n",
    "    decoder_dense = Dense(num_decoder_tokens, activation='softmax', name='decoder_dense')\n",
    "    decoder_outputs = decoder_dense(rnn_outputs)\n",
    "    \n",
    "    basic_model = Model([encoder_inputs, decoder_inputs], [decoder_outputs])\n",
    "    basic_model.compile(optimizer='adam', loss='categorical_crossentropy')\n",
    "    return basic_model"
   ]
  },
  {
   "cell_type": "markdown",
   "metadata": {},
   "source": [
    "### 训练单向模型"
   ]
  },
  {
   "cell_type": "code",
   "execution_count": 12,
   "metadata": {},
   "outputs": [
    {
     "name": "stdout",
     "output_type": "stream",
     "text": [
      "Train on 40000 samples, validate on 10000 samples\n",
      "Epoch 1/20\n",
      "40000/40000 [==============================] - 49s 1ms/step - loss: 1.2564 - val_loss: 0.7960\n"
     ]
    },
    {
     "name": "stderr",
     "output_type": "stream",
     "text": [
      "/home/nls3/anaconda2/envs/keras/lib/python3.6/site-packages/keras/engine/topology.py:2364: UserWarning: Layer decoder_lstm was passed non-serializable keyword arguments: {'initial_state': [<tf.Tensor 'encoder_lstm/while/Exit_2:0' shape=(?, 128) dtype=float32>, <tf.Tensor 'encoder_lstm/while/Exit_3:0' shape=(?, 128) dtype=float32>]}. They will not be included in the serialized model (and thus will be missing at deserialization time).\n",
      "  str(node.arguments) + '. They will not be included '\n"
     ]
    },
    {
     "name": "stdout",
     "output_type": "stream",
     "text": [
      "Epoch 2/20\n",
      "40000/40000 [==============================] - 43s 1ms/step - loss: 0.7724 - val_loss: 0.6788\n",
      "Epoch 3/20\n",
      "40000/40000 [==============================] - 47s 1ms/step - loss: 0.5891 - val_loss: 0.3697\n",
      "Epoch 4/20\n",
      "40000/40000 [==============================] - 46s 1ms/step - loss: 0.3621 - val_loss: 0.1546\n",
      "Epoch 5/20\n",
      "40000/40000 [==============================] - 43s 1ms/step - loss: 0.2083 - val_loss: 0.0564\n",
      "Epoch 6/20\n",
      "40000/40000 [==============================] - 41s 1ms/step - loss: 0.1248 - val_loss: 0.0201\n",
      "Epoch 7/20\n",
      "40000/40000 [==============================] - 40s 1ms/step - loss: 0.0772 - val_loss: 0.0079\n",
      "Epoch 8/20\n",
      "40000/40000 [==============================] - 42s 1ms/step - loss: 0.0491 - val_loss: 0.0033\n",
      "Epoch 9/20\n",
      "40000/40000 [==============================] - 47s 1ms/step - loss: 0.0334 - val_loss: 0.0018\n",
      "Epoch 10/20\n",
      "40000/40000 [==============================] - 45s 1ms/step - loss: 0.0240 - val_loss: 0.0011\n",
      "Epoch 11/20\n",
      "40000/40000 [==============================] - 40s 1ms/step - loss: 0.0186 - val_loss: 7.0768e-04\n",
      "Epoch 12/20\n",
      "40000/40000 [==============================] - 46s 1ms/step - loss: 0.0144 - val_loss: 4.9915e-04\n",
      "Epoch 13/20\n",
      "40000/40000 [==============================] - 45s 1ms/step - loss: 0.0118 - val_loss: 3.6997e-04\n",
      "Epoch 14/20\n",
      "40000/40000 [==============================] - 46s 1ms/step - loss: 0.0095 - val_loss: 2.7497e-04\n",
      "Epoch 15/20\n",
      "40000/40000 [==============================] - 42s 1ms/step - loss: 0.0078 - val_loss: 2.3511e-04\n",
      "Epoch 16/20\n",
      "40000/40000 [==============================] - 46s 1ms/step - loss: 0.0067 - val_loss: 1.9679e-04\n",
      "Epoch 17/20\n",
      "40000/40000 [==============================] - 46s 1ms/step - loss: 0.0058 - val_loss: 1.5624e-04\n",
      "Epoch 18/20\n",
      "40000/40000 [==============================] - 42s 1ms/step - loss: 0.0052 - val_loss: 1.6106e-04\n",
      "Epoch 19/20\n",
      "40000/40000 [==============================] - 44s 1ms/step - loss: 0.0047 - val_loss: 1.1229e-04\n",
      "Epoch 20/20\n",
      "40000/40000 [==============================] - 46s 1ms/step - loss: 0.0041 - val_loss: 7.0554e-05\n"
     ]
    }
   ],
   "source": [
    "# 回调函数\n",
    "callback_list = [callbacks.ModelCheckpoint('basic_model_best.h', save_best_only=True)]\n",
    "# 获取模型\n",
    "basic_model = build_basic_model()\n",
    "# 训练\n",
    "basic_model_hist = basic_model.fit([encoder_input_data, decoder_input_data], decoder_target_data,\n",
    "                batch_size=batch_size, epochs=epochs,\n",
    "                validation_split=0.2, callbacks=callback_list)"
   ]
  },
  {
   "cell_type": "markdown",
   "metadata": {},
   "source": [
    "### 测试单向模型"
   ]
  },
  {
   "cell_type": "code",
   "execution_count": 13,
   "metadata": {},
   "outputs": [],
   "source": [
    "# 建立推理模型\n",
    "def build_basic_inference_model(model_path):\n",
    "    model = load_model(model_path)\n",
    "    \n",
    "    # encoder\n",
    "    encoder_inputs = Input(shape=(None,))\n",
    "    # encoder_embedding\n",
    "    encoder_embedding = model.get_layer('encoder_embedding')(encoder_inputs)\n",
    "    # get encoder states\n",
    "    _, *encoder_states = model.get_layer('encoder_lstm')(encoder_embedding)\n",
    "    encoder_model = Model(encoder_inputs, encoder_states)\n",
    "    \n",
    "    # decoder\n",
    "    # decoder inputs\n",
    "    decoder_inputs = Input(shape=(None,))\n",
    "    # decoder input states \n",
    "    decoder_state_h = Input(shape=(latent_dim,))\n",
    "    decoder_state_c = Input(shape=(latent_dim,))\n",
    "    decoder_states_inputs = [decoder_state_h, decoder_state_c]\n",
    "    \n",
    "    # decoder embedding\n",
    "    decoder_embedding = model.get_layer('decoder_embedding')(decoder_inputs)\n",
    "    # get rnn outputs and decoder states\n",
    "    rnn_outputs, *decoder_states = model.get_layer('decoder_lstm')(decoder_embedding, initial_state=decoder_states_inputs)\n",
    "    decoder_outputs = model.get_layer('decoder_dense')(rnn_outputs)\n",
    "    decoder_model = Model([decoder_inputs] + decoder_states_inputs, [decoder_outputs]+decoder_states)\n",
    "    \n",
    "    return encoder_model, decoder_model"
   ]
  },
  {
   "cell_type": "code",
   "execution_count": 14,
   "metadata": {},
   "outputs": [],
   "source": [
    "reverse_input_char_index = dict([(i, char) for char, i in input_token_index.items()])\n",
    "reverse_target_word_index = dict([(i, char) for char, i in target_token_index.items()])\n",
    "\n",
    "def decode_sequence(input_seq, encoder_model, decoder_model):\n",
    "    # get encoder states\n",
    "    states_value = encoder_model.predict(input_seq)\n",
    "\n",
    "    # create a empty sequence\n",
    "    target_seq = np.zeros((1, 1))\n",
    "    target_seq[0, 0] = target_token_index['始']\n",
    "    \n",
    "    # 进行句子的恢复\n",
    "    stop_condition = False\n",
    "    decoded_sentence = ''\n",
    "    \n",
    "    while not stop_condition:\n",
    "        output, *decoder_states = decoder_model.predict([target_seq] + states_value)\n",
    "\n",
    "        sampled_token_index = np.argmax(output[0, -1, :])\n",
    "        sampled_word = reverse_target_word_index[sampled_token_index]\n",
    "        decoded_sentence += sampled_word\n",
    "        \n",
    "        if sampled_word == '终' or len(decoded_sentence) > max_decoder_seq_length:\n",
    "            stop_condition = True\n",
    "            \n",
    "        # update target_seq\n",
    "        target_seq = np.zeros((1, 1))\n",
    "        target_seq[0, 0] = sampled_token_index\n",
    "        \n",
    "        # update states\n",
    "        states_value = decoder_states\n",
    "        \n",
    "    return decoded_sentence"
   ]
  },
  {
   "cell_type": "code",
   "execution_count": 42,
   "metadata": {},
   "outputs": [],
   "source": [
    "# 建立一些测试用的样本\n",
    "test_input_texts = [line.split('\\t')[0] for line in lines[-20:]]\n",
    "test_input_data = np.zeros((len(test_input_texts), max_encoder_seq_length), np.int32)\n",
    "for i, test_text in enumerate(test_input_texts):\n",
    "    test_indexs = characters2index(test_text, input_token_index)\n",
    "    test_input_data[i, :len(test_indexs)] = test_indexs"
   ]
  },
  {
   "cell_type": "code",
   "execution_count": 47,
   "metadata": {},
   "outputs": [],
   "source": [
    "# 导入模型\n",
    "model_path = 'basic_model_best.h'\n",
    "inference_encoder_model, inference_decoder_model = build_basic_inference_model(model_path)"
   ]
  },
  {
   "cell_type": "code",
   "execution_count": 48,
   "metadata": {},
   "outputs": [
    {
     "name": "stdout",
     "output_type": "stream",
     "text": [
      "-\n",
      "Input sentence: 59798\n",
      "Decoded sentence: 伍万玖仟柒佰玖拾捌元整终\n",
      "-\n",
      "Input sentence: 28307\n",
      "Decoded sentence: 贰万捌仟叁佰零柒元整终\n",
      "-\n",
      "Input sentence: 49323\n",
      "Decoded sentence: 肆万玖仟叁佰贰拾叁元整终\n",
      "-\n",
      "Input sentence: 24169\n",
      "Decoded sentence: 贰万肆仟壹佰陆拾玖元整终\n",
      "-\n",
      "Input sentence: 95323\n",
      "Decoded sentence: 玖万伍仟叁佰贰拾叁元整终\n",
      "-\n",
      "Input sentence: 50104\n",
      "Decoded sentence: 伍万零壹佰零肆元整终\n",
      "-\n",
      "Input sentence: 34650\n",
      "Decoded sentence: 叁万肆仟陆佰伍拾元整终\n",
      "-\n",
      "Input sentence: 60256\n",
      "Decoded sentence: 陆万零贰佰伍拾陆元整终\n",
      "-\n",
      "Input sentence: 42183\n",
      "Decoded sentence: 肆万贰仟壹佰捌拾叁元整终\n",
      "-\n",
      "Input sentence: 68802\n",
      "Decoded sentence: 陆万捌仟捌佰零贰元整终\n",
      "-\n",
      "Input sentence: 63819\n",
      "Decoded sentence: 陆万叁仟捌佰壹拾玖元整终\n",
      "-\n",
      "Input sentence: 32531\n",
      "Decoded sentence: 叁万贰仟伍佰叁拾壹元整终\n",
      "-\n",
      "Input sentence: 25678\n",
      "Decoded sentence: 贰万伍仟陆佰柒拾捌元整终\n",
      "-\n",
      "Input sentence: 42272\n",
      "Decoded sentence: 肆万贰仟贰佰柒拾贰元整终\n",
      "-\n",
      "Input sentence: 48908\n",
      "Decoded sentence: 肆万捌仟玖佰零捌元整终\n",
      "-\n",
      "Input sentence: 74546\n",
      "Decoded sentence: 柒万肆仟伍佰肆拾陆元整终\n",
      "-\n",
      "Input sentence: 11869\n",
      "Decoded sentence: 壹万壹仟捌佰陆拾玖元整终\n",
      "-\n",
      "Input sentence: 75803\n",
      "Decoded sentence: 柒万伍仟捌佰零叁元整终\n",
      "-\n",
      "Input sentence: 75727\n",
      "Decoded sentence: 柒万伍仟柒佰贰拾柒元整终\n",
      "-\n",
      "Input sentence: 67230\n",
      "Decoded sentence: 陆万柒仟贰佰叁拾元整终\n"
     ]
    }
   ],
   "source": [
    "# 测试\n",
    "for seq_index in range(len(test_input_texts)):\n",
    "    # Take one sequence (part of the training set)\n",
    "    # for trying out decoding.\n",
    "    input_seq = test_input_data[seq_index: seq_index + 1]\n",
    "    decoded_sentence = decode_sequence(input_seq, inference_encoder_model, inference_decoder_model)\n",
    "    print('-')\n",
    "    print('Input sentence:', test_input_texts[seq_index])\n",
    "    print('Decoded sentence:', decoded_sentence)"
   ]
  },
  {
   "cell_type": "markdown",
   "metadata": {},
   "source": [
    "### 双向编码器模型\n",
    "+ 编码器使用双向的lstm，解码器使用单向的lstm\n",
    "    + 编码器：encoder_input -> encoder_embedding -> bidi_encoder_lstm -> ...\n",
    "    + 解码器：decoder_input -> decoder_embbeding -> decoder_lstm -> decoder_dense -> ...\n",
    "    \n",
    "+ 由于编码器是双向的，其状态包括 `forward_h, forward_c, backward_h, backward_c`，每个状态的`shape=(?, latent_dim)`，需要将foward 和 backward的状态进行合并，合并成为 `state_h, state_c`，其`shape=(?, latent_dim*2)`\n",
    "+ 因此，解码器为了能够接收编码器的状态，解码器的latent_dim要与`state_h, state_c`一致，因此解码器的LSTM单元数量是两倍的"
   ]
  },
  {
   "cell_type": "code",
   "execution_count": 49,
   "metadata": {},
   "outputs": [],
   "source": [
    "def build_bidi_encoder_model():\n",
    "    rnn = layers.LSTM\n",
    "    \n",
    "    # Encoder\n",
    "    # encoder inputs\n",
    "    encoder_inputs = Input(shape=(None,), name='encoder_inputs')\n",
    "    # encoder embedding\n",
    "    encoder_embedding = Embedding(num_encoder_tokens, encoder_embedding_dim,name='encoder_embedding')(encoder_inputs)\n",
    "    # encoder lstm\n",
    "    bidi_encoder_lstm = Bidirectional(rnn(latent_dim, return_state=True, dropout=0.2,recurrent_dropout=0.5), name='encoder_lstm')\n",
    "    _, forward_h, forward_c, backward_h, backward_c = bidi_encoder_lstm(encoder_embedding)\n",
    "    state_h = Concatenate()([forward_h, backward_h])\n",
    "    state_c = Concatenate()([forward_c, backward_c])\n",
    "    encoder_states = [state_h, state_c]\n",
    "    \n",
    "    # Decoder\n",
    "    # decoder inputs\n",
    "    decoder_inputs = Input(shape=(None,), name='decoder_inputs')\n",
    "    # decoder embeddding\n",
    "    decoder_embedding = Embedding(num_decoder_tokens, decoder_embedding_dim, name='decoder_embedding')(decoder_inputs)\n",
    "    # decoder lstm, number of units is 2*latent_dim\n",
    "    # NOTE THIS : latent_dim*2 for matching encoder_states\n",
    "    decoder_lstm = rnn(latent_dim*2, return_state=True, \n",
    "                       return_sequences=True, dropout=0.2,\n",
    "                       recurrent_dropout=0.5, name='decoder_lstm')\n",
    "    # get outputs and decoder states\n",
    "    rnn_outputs, *decoder_states = decoder_lstm(decoder_embedding, initial_state=encoder_states)\n",
    "    # decoder dense\n",
    "    decoder_dense = Dense(num_decoder_tokens, activation='softmax', name='decoder_dense')\n",
    "    decoder_outputs = decoder_dense(rnn_outputs)\n",
    "    \n",
    "    bidi_encoder_model = Model([encoder_inputs,decoder_inputs], [decoder_outputs])\n",
    "    bidi_encoder_model.compile(optimizer='adam', loss='categorical_crossentropy')\n",
    "    \n",
    "    return bidi_encoder_model"
   ]
  },
  {
   "cell_type": "markdown",
   "metadata": {},
   "source": [
    "### 训练双向编码器模型"
   ]
  },
  {
   "cell_type": "code",
   "execution_count": 50,
   "metadata": {},
   "outputs": [
    {
     "name": "stdout",
     "output_type": "stream",
     "text": [
      "Train on 40000 samples, validate on 10000 samples\n",
      "Epoch 1/20\n",
      "40000/40000 [==============================] - 66s 2ms/step - loss: 1.1616 - val_loss: 0.7842\n"
     ]
    },
    {
     "name": "stderr",
     "output_type": "stream",
     "text": [
      "/home/nls3/anaconda2/envs/keras/lib/python3.6/site-packages/keras/engine/topology.py:2364: UserWarning: Layer decoder_lstm was passed non-serializable keyword arguments: {'initial_state': [<tf.Tensor 'concatenate_1/concat:0' shape=(?, 256) dtype=float32>, <tf.Tensor 'concatenate_2/concat:0' shape=(?, 256) dtype=float32>]}. They will not be included in the serialized model (and thus will be missing at deserialization time).\n",
      "  str(node.arguments) + '. They will not be included '\n"
     ]
    },
    {
     "name": "stdout",
     "output_type": "stream",
     "text": [
      "Epoch 2/20\n",
      "40000/40000 [==============================] - 53s 1ms/step - loss: 0.7496 - val_loss: 0.5850\n",
      "Epoch 3/20\n",
      "40000/40000 [==============================] - 58s 1ms/step - loss: 0.4799 - val_loss: 0.2103\n",
      "Epoch 4/20\n",
      "40000/40000 [==============================] - 59s 1ms/step - loss: 0.1990 - val_loss: 0.0308\n",
      "Epoch 5/20\n",
      "40000/40000 [==============================] - 52s 1ms/step - loss: 0.0709 - val_loss: 0.0047\n",
      "Epoch 6/20\n",
      "40000/40000 [==============================] - 57s 1ms/step - loss: 0.0335 - val_loss: 0.0016\n",
      "Epoch 7/20\n",
      "40000/40000 [==============================] - 60s 2ms/step - loss: 0.0200 - val_loss: 7.4840e-04\n",
      "Epoch 8/20\n",
      "40000/40000 [==============================] - 54s 1ms/step - loss: 0.0131 - val_loss: 4.8027e-04\n",
      "Epoch 9/20\n",
      "40000/40000 [==============================] - 59s 1ms/step - loss: 0.0095 - val_loss: 3.4750e-04\n",
      "Epoch 10/20\n",
      "40000/40000 [==============================] - 59s 1ms/step - loss: 0.0074 - val_loss: 2.6341e-04\n",
      "Epoch 11/20\n",
      "40000/40000 [==============================] - 54s 1ms/step - loss: 0.0059 - val_loss: 1.6931e-04\n",
      "Epoch 12/20\n",
      "40000/40000 [==============================] - 52s 1ms/step - loss: 0.0045 - val_loss: 1.1235e-04\n",
      "Epoch 13/20\n",
      "40000/40000 [==============================] - 56s 1ms/step - loss: 0.0039 - val_loss: 1.6833e-04\n",
      "Epoch 14/20\n",
      "40000/40000 [==============================] - 59s 1ms/step - loss: 0.0033 - val_loss: 8.8947e-05\n",
      "Epoch 15/20\n",
      "40000/40000 [==============================] - 57s 1ms/step - loss: 0.0029 - val_loss: 5.1783e-05\n",
      "Epoch 16/20\n",
      "40000/40000 [==============================] - 59s 1ms/step - loss: 0.0022 - val_loss: 8.2367e-05\n",
      "Epoch 17/20\n",
      "40000/40000 [==============================] - 60s 2ms/step - loss: 0.0022 - val_loss: 4.1262e-05\n",
      "Epoch 18/20\n",
      "40000/40000 [==============================] - 56s 1ms/step - loss: 0.0019 - val_loss: 7.5177e-05\n",
      "Epoch 19/20\n",
      "40000/40000 [==============================] - 61s 2ms/step - loss: 0.0017 - val_loss: 9.4143e-05\n",
      "Epoch 20/20\n",
      "40000/40000 [==============================] - 61s 2ms/step - loss: 0.0016 - val_loss: 3.8348e-05\n"
     ]
    }
   ],
   "source": [
    "# 回调函数\n",
    "callback_list = [callbacks.ModelCheckpoint('bidi_encoder_model_best.h', save_best_only=True)]\n",
    "# 获取模型\n",
    "bidi_encoder_model = build_bidi_encoder_model()\n",
    "# 训练\n",
    "bidi_encoder_model_hist = bidi_encoder_model.fit([encoder_input_data, decoder_input_data], decoder_target_data,\n",
    "                batch_size=batch_size, epochs=epochs,\n",
    "                validation_split=0.2, callbacks=callback_list)"
   ]
  },
  {
   "cell_type": "code",
   "execution_count": 51,
   "metadata": {},
   "outputs": [],
   "source": [
    "def build_bidi_encoder_inference_model(model_path):\n",
    "    model = load_model(model_path)\n",
    "    \n",
    "    # encoder\n",
    "    encoder_inputs = Input(shape=(None,))\n",
    "    # encoder_embedding\n",
    "    encoder_embedding = model.get_layer('encoder_embedding')(encoder_inputs)\n",
    "    # get encoder states\n",
    "    _, forward_h, forward_c, backward_h, backward_c = model.get_layer('encoder_lstm')(encoder_embedding)\n",
    "    state_h = Concatenate()([forward_h, backward_h])\n",
    "    state_c = Concatenate()([forward_c, backward_c])\n",
    "    encoder_states = [state_h, state_c]\n",
    "    encoder_model = Model(encoder_inputs, encoder_states)\n",
    "    \n",
    "    # decoder\n",
    "    # decoder inputs\n",
    "    decoder_inputs = Input(shape=(None,))\n",
    "    # decoder input states \n",
    "    decoder_state_h = Input(shape=(latent_dim*2,))\n",
    "    decoder_state_c = Input(shape=(latent_dim*2,))\n",
    "    decoder_states_inputs = [decoder_state_h, decoder_state_c]\n",
    "    \n",
    "    # decoder embedding\n",
    "    decoder_embedding = model.get_layer('decoder_embedding')(decoder_inputs)\n",
    "    # get rnn outputs and decoder states\n",
    "    rnn_outputs, *decoder_states = model.get_layer('decoder_lstm')(decoder_embedding, initial_state=decoder_states_inputs)\n",
    "    decoder_outputs = model.get_layer('decoder_dense')(rnn_outputs)\n",
    "    decoder_model = Model([decoder_inputs] + decoder_states_inputs, [decoder_outputs]+decoder_states)\n",
    "    \n",
    "    return encoder_model, decoder_model"
   ]
  },
  {
   "cell_type": "code",
   "execution_count": 58,
   "metadata": {},
   "outputs": [],
   "source": [
    "model_path = 'bidi_encoder_model_best.h'\n",
    "inference_encoder_model, inference_decoder_model = build_bidi_encoder_inference_model(model_path)"
   ]
  },
  {
   "cell_type": "code",
   "execution_count": 59,
   "metadata": {},
   "outputs": [
    {
     "name": "stdout",
     "output_type": "stream",
     "text": [
      "-\n",
      "Input sentence: 59798\n",
      "Decoded sentence: 伍万玖仟柒佰玖拾捌元整终\n",
      "-\n",
      "Input sentence: 28307\n",
      "Decoded sentence: 贰万捌仟叁佰零柒元整终\n",
      "-\n",
      "Input sentence: 49323\n",
      "Decoded sentence: 肆万玖仟叁佰贰拾叁元整终\n",
      "-\n",
      "Input sentence: 24169\n",
      "Decoded sentence: 贰万肆仟壹佰陆拾玖元整终\n",
      "-\n",
      "Input sentence: 95323\n",
      "Decoded sentence: 玖万伍仟叁佰贰拾叁元整终\n",
      "-\n",
      "Input sentence: 50104\n",
      "Decoded sentence: 伍万零壹佰零肆元整终\n",
      "-\n",
      "Input sentence: 34650\n",
      "Decoded sentence: 叁万肆仟陆佰伍拾元整终\n",
      "-\n",
      "Input sentence: 60256\n",
      "Decoded sentence: 陆万零贰佰伍拾陆元整终\n",
      "-\n",
      "Input sentence: 42183\n",
      "Decoded sentence: 肆万贰仟壹佰捌拾叁元整终\n",
      "-\n",
      "Input sentence: 68802\n",
      "Decoded sentence: 陆万捌仟捌佰零贰元整终\n",
      "-\n",
      "Input sentence: 63819\n",
      "Decoded sentence: 陆万叁仟捌佰壹拾玖元整终\n",
      "-\n",
      "Input sentence: 32531\n",
      "Decoded sentence: 叁万贰仟伍佰叁拾壹元整终\n",
      "-\n",
      "Input sentence: 25678\n",
      "Decoded sentence: 贰万伍仟陆佰柒拾捌元整终\n",
      "-\n",
      "Input sentence: 42272\n",
      "Decoded sentence: 肆万贰仟贰佰柒拾贰元整终\n",
      "-\n",
      "Input sentence: 48908\n",
      "Decoded sentence: 肆万捌仟玖佰零捌元整终\n",
      "-\n",
      "Input sentence: 74546\n",
      "Decoded sentence: 柒万肆仟伍佰肆拾陆元整终\n",
      "-\n",
      "Input sentence: 11869\n",
      "Decoded sentence: 壹万壹仟捌佰陆拾玖元整终\n",
      "-\n",
      "Input sentence: 75803\n",
      "Decoded sentence: 柒万伍仟捌佰零叁元整终\n",
      "-\n",
      "Input sentence: 75727\n",
      "Decoded sentence: 柒万伍仟柒佰贰拾柒元整终\n",
      "-\n",
      "Input sentence: 67230\n",
      "Decoded sentence: 陆万柒仟贰佰叁拾元整终\n"
     ]
    }
   ],
   "source": [
    "# 测试\n",
    "for seq_index in range(len(test_input_texts)):\n",
    "    # Take one sequence (part of the training set)\n",
    "    # for trying out decoding.\n",
    "    input_seq = test_input_data[seq_index: seq_index + 1]\n",
    "    decoded_sentence = decode_sequence(input_seq, inference_encoder_model, inference_decoder_model)\n",
    "    print('-')\n",
    "    print('Input sentence:', test_input_texts[seq_index])\n",
    "    print('Decoded sentence:', decoded_sentence)"
   ]
  },
  {
   "cell_type": "code",
   "execution_count": 62,
   "metadata": {},
   "outputs": [
    {
     "data": {
      "image/png": "[encoded data removed]",
      "text/plain": [
       "<matplotlib.figure.Figure at 0x7fda5ab775f8>"
      ]
     },
     "metadata": {},
     "output_type": "display_data"
    }
   ],
   "source": [
    "# 两种模型validation losss\n",
    "basic_model_val_loss = basic_model_hist.history['val_loss']\n",
    "bidi_model_val_loss = bidi_encoder_model_hist.history['val_loss']\n",
    "basic_model_train_loss = basic_model_hist.history['loss']\n",
    "bidi_model_train_loss = bidi_encoder_model_hist.history['loss']\n",
    "\n",
    "x_range = range(1, len(basic_model_val_loss)+1)\n",
    "plt.plot(x_range, basic_model_val_loss, 'r', label='Basic model validation loss')\n",
    "plt.plot(x_range, basic_model_train_loss, 'ro', label='Basic model Train loss')\n",
    "\n",
    "\n",
    "x_range = range(1, len(bidi_model_val_loss)+1)\n",
    "plt.plot(x_range, bidi_model_val_loss, 'b', label='Birirectianl model validation loss')\n",
    "plt.plot(x_range, bidi_model_train_loss, 'bo', label='Birirectianl model train loss')\n",
    "\n",
    "plt.plot()\n",
    "plt.xlabel('Epochs')\n",
    "plt.ylabel('Validation Loss')\n",
    "plt.legend()\n",
    "plt.show()"
   ]
  },
  {
   "cell_type": "markdown",
   "metadata": {},
   "source": [
    "## 总结\n",
    "让我来总结下写代码时遇到的问题和坑\n",
    "1. 在实现双向编码器模型时，刚开始不知道如何将encoder的states作为decoder的初始状态，查了好一会才找到如何实现，并且似乎只有在keras 2.1.3以上版本有用，具体在 https://stackoverflow.com/questions/47923370/keras-bidirectional-lstm-seq2seq ，关键就是要将decoder的latent_dim*2\n",
    "2. 在预处理数据时，注意0的含义。在创建数据时，用的是np.zeros，如果0是代表着某个字符，那么训练将不正确，最好的办法是将0的含义设置为空\n",
    "3. 我还尝试着将decoder设计成双向的RNN，结果表明，训练阶段没有任何问题，能够得到很小的loss，但是在inference阶段，完全没有作用，因此我在想：是否在seq2seq模型中decoder只能是单向的\n",
    "4. 很明显，双向模型收敛速度快一些"
   ]
  }
 ],
 "metadata": {
  "kernelspec": {
   "display_name": "Python 3",
   "language": "python",
   "name": "python3"
  },
  "language_info": {
   "codemirror_mode": {
    "name": "ipython",
    "version": 3
   },
   "file_extension": ".py",
   "mimetype": "text/x-python",
   "name": "python",
   "nbconvert_exporter": "python",
   "pygments_lexer": "ipython3",
   "version": "3.6.3"
  }
 },
 "nbformat": 4,
 "nbformat_minor": 2
}
